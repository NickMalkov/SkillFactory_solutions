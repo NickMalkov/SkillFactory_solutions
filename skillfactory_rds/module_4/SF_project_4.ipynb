{
 "cells": [
  {
   "cell_type": "code",
   "execution_count": 1,
   "metadata": {},
   "outputs": [],
   "source": [
    "import pandas as pd #загружаем библиотеку"
   ]
  },
  {
   "cell_type": "code",
   "execution_count": 2,
   "metadata": {},
   "outputs": [],
   "source": [
    "data = pd.read_csv('query_result.csv') #читаем данные"
   ]
  },
  {
   "cell_type": "code",
   "execution_count": 3,
   "metadata": {},
   "outputs": [
    {
     "data": {
      "text/html": [
       "<div>\n",
       "<style scoped>\n",
       "    .dataframe tbody tr th:only-of-type {\n",
       "        vertical-align: middle;\n",
       "    }\n",
       "\n",
       "    .dataframe tbody tr th {\n",
       "        vertical-align: top;\n",
       "    }\n",
       "\n",
       "    .dataframe thead th {\n",
       "        text-align: right;\n",
       "    }\n",
       "</style>\n",
       "<table border=\"1\" class=\"dataframe\">\n",
       "  <thead>\n",
       "    <tr style=\"text-align: right;\">\n",
       "      <th></th>\n",
       "      <th>flight_id</th>\n",
       "      <th>flight_no</th>\n",
       "      <th>departure_airport</th>\n",
       "      <th>arrival_airport</th>\n",
       "      <th>actual_departure</th>\n",
       "      <th>actual_arrival</th>\n",
       "      <th>flight_duration</th>\n",
       "      <th>model</th>\n",
       "      <th>sum_tickets_sold</th>\n",
       "    </tr>\n",
       "  </thead>\n",
       "  <tbody>\n",
       "    <tr>\n",
       "      <th>0</th>\n",
       "      <td>136661</td>\n",
       "      <td>PG0480</td>\n",
       "      <td>AAQ</td>\n",
       "      <td>EGO</td>\n",
       "      <td>2017-01-01T09:27:00</td>\n",
       "      <td>2017-01-01T10:17:00</td>\n",
       "      <td>50.0</td>\n",
       "      <td>Sukhoi Superjet-100</td>\n",
       "      <td>759000.0</td>\n",
       "    </tr>\n",
       "    <tr>\n",
       "      <th>1</th>\n",
       "      <td>136420</td>\n",
       "      <td>PG0252</td>\n",
       "      <td>AAQ</td>\n",
       "      <td>SVO</td>\n",
       "      <td>2017-01-01T10:09:00</td>\n",
       "      <td>2017-01-01T11:47:00</td>\n",
       "      <td>98.0</td>\n",
       "      <td>Boeing 737-300</td>\n",
       "      <td>1542000.0</td>\n",
       "    </tr>\n",
       "    <tr>\n",
       "      <th>2</th>\n",
       "      <td>136936</td>\n",
       "      <td>PG0480</td>\n",
       "      <td>AAQ</td>\n",
       "      <td>EGO</td>\n",
       "      <td>2017-01-02T09:28:00</td>\n",
       "      <td>2017-01-02T10:18:00</td>\n",
       "      <td>50.0</td>\n",
       "      <td>Sukhoi Superjet-100</td>\n",
       "      <td>632400.0</td>\n",
       "    </tr>\n",
       "    <tr>\n",
       "      <th>3</th>\n",
       "      <td>136458</td>\n",
       "      <td>PG0252</td>\n",
       "      <td>AAQ</td>\n",
       "      <td>SVO</td>\n",
       "      <td>2017-01-02T10:07:00</td>\n",
       "      <td>2017-01-02T11:46:00</td>\n",
       "      <td>99.0</td>\n",
       "      <td>Boeing 737-300</td>\n",
       "      <td>1568800.0</td>\n",
       "    </tr>\n",
       "    <tr>\n",
       "      <th>4</th>\n",
       "      <td>136546</td>\n",
       "      <td>PG0194</td>\n",
       "      <td>AAQ</td>\n",
       "      <td>NOZ</td>\n",
       "      <td>2017-01-03T06:13:00</td>\n",
       "      <td>2017-01-03T11:15:00</td>\n",
       "      <td>302.0</td>\n",
       "      <td>Boeing 737-300</td>\n",
       "      <td>NaN</td>\n",
       "    </tr>\n",
       "  </tbody>\n",
       "</table>\n",
       "</div>"
      ],
      "text/plain": [
       "   flight_id flight_no departure_airport arrival_airport     actual_departure  \\\n",
       "0     136661    PG0480               AAQ             EGO  2017-01-01T09:27:00   \n",
       "1     136420    PG0252               AAQ             SVO  2017-01-01T10:09:00   \n",
       "2     136936    PG0480               AAQ             EGO  2017-01-02T09:28:00   \n",
       "3     136458    PG0252               AAQ             SVO  2017-01-02T10:07:00   \n",
       "4     136546    PG0194               AAQ             NOZ  2017-01-03T06:13:00   \n",
       "\n",
       "        actual_arrival  flight_duration                model  sum_tickets_sold  \n",
       "0  2017-01-01T10:17:00             50.0  Sukhoi Superjet-100          759000.0  \n",
       "1  2017-01-01T11:47:00             98.0       Boeing 737-300         1542000.0  \n",
       "2  2017-01-02T10:18:00             50.0  Sukhoi Superjet-100          632400.0  \n",
       "3  2017-01-02T11:46:00             99.0       Boeing 737-300         1568800.0  \n",
       "4  2017-01-03T11:15:00            302.0       Boeing 737-300               NaN  "
      ]
     },
     "execution_count": 3,
     "metadata": {},
     "output_type": "execute_result"
    }
   ],
   "source": [
    "data.head(5)"
   ]
  },
  {
   "cell_type": "code",
   "execution_count": 4,
   "metadata": {},
   "outputs": [
    {
     "name": "stdout",
     "output_type": "stream",
     "text": [
      "<class 'pandas.core.frame.DataFrame'>\n",
      "RangeIndex: 127 entries, 0 to 126\n",
      "Data columns (total 9 columns):\n",
      " #   Column             Non-Null Count  Dtype  \n",
      "---  ------             --------------  -----  \n",
      " 0   flight_id          127 non-null    int64  \n",
      " 1   flight_no          127 non-null    object \n",
      " 2   departure_airport  127 non-null    object \n",
      " 3   arrival_airport    127 non-null    object \n",
      " 4   actual_departure   127 non-null    object \n",
      " 5   actual_arrival     127 non-null    object \n",
      " 6   flight_duration    127 non-null    float64\n",
      " 7   model              127 non-null    object \n",
      " 8   sum_tickets_sold   118 non-null    float64\n",
      "dtypes: float64(2), int64(1), object(6)\n",
      "memory usage: 9.1+ KB\n"
     ]
    }
   ],
   "source": [
    "data.info() #смотрим, что из себя представляют"
   ]
  },
  {
   "cell_type": "code",
   "execution_count": 5,
   "metadata": {},
   "outputs": [],
   "source": [
    "#цена авиатоплива в 2017 году (данные взяты с сайта Федерального агенства воздушного транспорта Росавиации)\n",
    "#среднее значение 46803 рубля/тонну"
   ]
  },
  {
   "cell_type": "code",
   "execution_count": 6,
   "metadata": {},
   "outputs": [
    {
     "data": {
      "text/plain": [
       "array(['Sukhoi Superjet-100', 'Boeing 737-300'], dtype=object)"
      ]
     },
     "execution_count": 6,
     "metadata": {},
     "output_type": "execute_result"
    }
   ],
   "source": [
    "data.model.unique()"
   ]
  },
  {
   "cell_type": "code",
   "execution_count": 7,
   "metadata": {},
   "outputs": [],
   "source": [
    "#расход топлива для моделей самолетов взят из документа \"О нормах расхода топлива на эксплуатацию самолетов и вертолетов гражданской авиации\"\n",
    "# для Boeing 737-300 составляет 2400 кг/час\n",
    "# для Sukhoi Superjet-100 1700 кг/час"
   ]
  },
  {
   "cell_type": "code",
   "execution_count": 8,
   "metadata": {},
   "outputs": [],
   "source": [
    "df = data.copy() #делаем копию, далее работаем с копией, чтоб вернуться к неповторимому оригиналу, если что-то пойдет не по плану"
   ]
  },
  {
   "cell_type": "code",
   "execution_count": 9,
   "metadata": {},
   "outputs": [],
   "source": [
    "#создаем столбец с расходом топлива (здесь и далее мой любимый прием с прохождением по серии со словарем)\n",
    "\n",
    "df['fuel_consumption'] = df['model']\n",
    "fuel_consumption = {'Sukhoi Superjet-100':1.7,\n",
    "                   'Boeing 737-300':2.4\n",
    "                   }\n",
    "df['fuel_consumption'] = df['fuel_consumption'].replace(to_replace = fuel_consumption)"
   ]
  },
  {
   "cell_type": "code",
   "execution_count": 10,
   "metadata": {},
   "outputs": [],
   "source": [
    "#создаем столбец с расходами на полет (формула логически вытекает из проведенных выше действий)\n",
    "df['flight_expense'] = df.flight_duration/60*df.fuel_consumption*46803"
   ]
  },
  {
   "cell_type": "code",
   "execution_count": 11,
   "metadata": {},
   "outputs": [],
   "source": [
    "#создаем столбец с прибылью\n",
    "\n",
    "df['flight_profit'] = df.sum_tickets_sold - df.flight_expense"
   ]
  },
  {
   "cell_type": "code",
   "execution_count": 13,
   "metadata": {},
   "outputs": [],
   "source": [
    "#города вылета и прилета в отличии от кодов аэропортов были в условиях задания\n",
    "\n",
    "airports_code = { 'AAQ' : 'Anapa', \n",
    "                 'EGO' : 'Belgorod', \n",
    "                 'SVO' : 'Moscow', \n",
    "                 'NOZ' : 'Novokuznetsk'\n",
    "                }\n",
    "\n",
    "df['departure_airport'] = df['departure_airport'].replace(to_replace = airports_code )\n",
    "df['arrival_airport'] = df['arrival_airport'].replace(to_replace = airports_code )"
   ]
  },
  {
   "cell_type": "code",
   "execution_count": null,
   "metadata": {
    "scrolled": true
   },
   "outputs": [],
   "source": []
  },
  {
   "cell_type": "code",
   "execution_count": 24,
   "metadata": {},
   "outputs": [],
   "source": [
    "#приводим к формату даты для последующей работы\n",
    "\n",
    "df['actual_departure'] = pd.to_datetime(df['actual_departure'])\n",
    "df['actual_arrival'] = pd.to_datetime(df['actual_arrival'])"
   ]
  },
  {
   "cell_type": "code",
   "execution_count": 25,
   "metadata": {},
   "outputs": [],
   "source": [
    "#мне покзалось, что дни недели могут оказаться важными\n",
    "\n",
    "df['day_of_week'] = df['actual_departure'].dt.dayofweek"
   ]
  },
  {
   "cell_type": "code",
   "execution_count": 26,
   "metadata": {},
   "outputs": [],
   "source": [
    "#приводим дни недели в более понятный формат\n",
    "\n",
    "day_of_week = { 0 : 'Monday',\n",
    "              1 : 'Tuesday',\n",
    "              2 : 'Wednesday',\n",
    "              3 : 'Tursday',\n",
    "              4 : 'Friday',\n",
    "              5 : 'Saturday',\n",
    "              6 : 'Sunday'\n",
    "              }\n",
    "df['day_of_week'] = df['day_of_week'].replace(to_replace = day_of_week)"
   ]
  },
  {
   "cell_type": "code",
   "execution_count": 50,
   "metadata": {},
   "outputs": [
    {
     "data": {
      "text/html": [
       "<div>\n",
       "<style scoped>\n",
       "    .dataframe tbody tr th:only-of-type {\n",
       "        vertical-align: middle;\n",
       "    }\n",
       "\n",
       "    .dataframe tbody tr th {\n",
       "        vertical-align: top;\n",
       "    }\n",
       "\n",
       "    .dataframe thead th {\n",
       "        text-align: right;\n",
       "    }\n",
       "</style>\n",
       "<table border=\"1\" class=\"dataframe\">\n",
       "  <thead>\n",
       "    <tr style=\"text-align: right;\">\n",
       "      <th></th>\n",
       "      <th>flight_id</th>\n",
       "      <th>flight_duration</th>\n",
       "      <th>sum_tickets_sold</th>\n",
       "      <th>fuel_consumption</th>\n",
       "      <th>flight_expense</th>\n",
       "      <th>flight_profit</th>\n",
       "    </tr>\n",
       "  </thead>\n",
       "  <tbody>\n",
       "    <tr>\n",
       "      <th>flight_id</th>\n",
       "      <td>1.000000</td>\n",
       "      <td>-0.334563</td>\n",
       "      <td>-0.872855</td>\n",
       "      <td>-0.869044</td>\n",
       "      <td>-0.404241</td>\n",
       "      <td>-0.865381</td>\n",
       "    </tr>\n",
       "    <tr>\n",
       "      <th>flight_duration</th>\n",
       "      <td>-0.334563</td>\n",
       "      <td>1.000000</td>\n",
       "      <td>0.974231</td>\n",
       "      <td>0.599836</td>\n",
       "      <td>0.996395</td>\n",
       "      <td>0.966493</td>\n",
       "    </tr>\n",
       "    <tr>\n",
       "      <th>sum_tickets_sold</th>\n",
       "      <td>-0.872855</td>\n",
       "      <td>0.974231</td>\n",
       "      <td>1.000000</td>\n",
       "      <td>0.976290</td>\n",
       "      <td>0.974770</td>\n",
       "      <td>0.999484</td>\n",
       "    </tr>\n",
       "    <tr>\n",
       "      <th>fuel_consumption</th>\n",
       "      <td>-0.869044</td>\n",
       "      <td>0.599836</td>\n",
       "      <td>0.976290</td>\n",
       "      <td>1.000000</td>\n",
       "      <td>0.665535</td>\n",
       "      <td>0.968873</td>\n",
       "    </tr>\n",
       "    <tr>\n",
       "      <th>flight_expense</th>\n",
       "      <td>-0.404241</td>\n",
       "      <td>0.996395</td>\n",
       "      <td>0.974770</td>\n",
       "      <td>0.665535</td>\n",
       "      <td>1.000000</td>\n",
       "      <td>0.967100</td>\n",
       "    </tr>\n",
       "    <tr>\n",
       "      <th>flight_profit</th>\n",
       "      <td>-0.865381</td>\n",
       "      <td>0.966493</td>\n",
       "      <td>0.999484</td>\n",
       "      <td>0.968873</td>\n",
       "      <td>0.967100</td>\n",
       "      <td>1.000000</td>\n",
       "    </tr>\n",
       "  </tbody>\n",
       "</table>\n",
       "</div>"
      ],
      "text/plain": [
       "                  flight_id  flight_duration  sum_tickets_sold  \\\n",
       "flight_id          1.000000        -0.334563         -0.872855   \n",
       "flight_duration   -0.334563         1.000000          0.974231   \n",
       "sum_tickets_sold  -0.872855         0.974231          1.000000   \n",
       "fuel_consumption  -0.869044         0.599836          0.976290   \n",
       "flight_expense    -0.404241         0.996395          0.974770   \n",
       "flight_profit     -0.865381         0.966493          0.999484   \n",
       "\n",
       "                  fuel_consumption  flight_expense  flight_profit  \n",
       "flight_id                -0.869044       -0.404241      -0.865381  \n",
       "flight_duration           0.599836        0.996395       0.966493  \n",
       "sum_tickets_sold          0.976290        0.974770       0.999484  \n",
       "fuel_consumption          1.000000        0.665535       0.968873  \n",
       "flight_expense            0.665535        1.000000       0.967100  \n",
       "flight_profit             0.968873        0.967100       1.000000  "
      ]
     },
     "execution_count": 50,
     "metadata": {},
     "output_type": "execute_result"
    }
   ],
   "source": [
    "#есть странные корреляции... но пока не буду об этом думать\n",
    "df.corr()"
   ]
  },
  {
   "cell_type": "code",
   "execution_count": 49,
   "metadata": {},
   "outputs": [
    {
     "data": {
      "text/plain": [
       "<AxesSubplot:xlabel='arrival_airport'>"
      ]
     },
     "execution_count": 49,
     "metadata": {},
     "output_type": "execute_result"
    },
    {
     "data": {
      "image/png": "[encoded data removed]",
      "text/plain": [
       "<Figure size 432x288 with 1 Axes>"
      ]
     },
     "metadata": {
      "needs_background": "light"
     },
     "output_type": "display_data"
    }
   ],
   "source": [
    "#самое простое: визуализация отношений прибыли к затратам \n",
    "\n",
    "df.pivot_table(values = ['flight_profit', 'flight_expense'],\n",
    "                index = 'arrival_airport',\n",
    "                aggfunc = 'mean').plot(kind = 'bar')"
   ]
  },
  {
   "cell_type": "code",
   "execution_count": 35,
   "metadata": {},
   "outputs": [
    {
     "data": {
      "text/plain": [
       "<AxesSubplot:xlabel='day_of_week'>"
      ]
     },
     "execution_count": 35,
     "metadata": {},
     "output_type": "execute_result"
    },
    {
     "data": {
      "image/png": "[encoded data removed]",
      "text/plain": [
       "<Figure size 432x288 with 1 Axes>"
      ]
     },
     "metadata": {
      "needs_background": "light"
     },
     "output_type": "display_data"
    }
   ],
   "source": [
    "#прибыль по дням недели\n",
    "\n",
    "df.pivot_table(values = ['flight_profit'],\n",
    "                index = 'day_of_week',\n",
    "                aggfunc = 'mean').plot(kind = 'bar')"
   ]
  },
  {
   "cell_type": "code",
   "execution_count": 36,
   "metadata": {},
   "outputs": [
    {
     "data": {
      "text/plain": [
       "<AxesSubplot:xlabel='arrival_airport'>"
      ]
     },
     "execution_count": 36,
     "metadata": {},
     "output_type": "execute_result"
    },
    {
     "data": {
      "image/png": "[encoded data removed]",
      "text/plain": [
       "<Figure size 432x288 with 1 Axes>"
      ]
     },
     "metadata": {
      "needs_background": "light"
     },
     "output_type": "display_data"
    }
   ],
   "source": [
    "#прибыль по городам\n",
    "\n",
    "df.pivot_table(values = ['flight_profit'],\n",
    "                index = 'arrival_airport',\n",
    "                aggfunc = 'mean').plot(kind = 'bar')"
   ]
  },
  {
   "cell_type": "code",
   "execution_count": 40,
   "metadata": {},
   "outputs": [],
   "source": [
    "#захотелось графики повеселее...\n",
    "\n",
    "import seaborn as sns\n",
    "import warnings; warnings.simplefilter('ignore')"
   ]
  },
  {
   "cell_type": "code",
   "execution_count": 46,
   "metadata": {},
   "outputs": [
    {
     "data": {
      "text/plain": [
       "<AxesSubplot:xlabel='arrival_airport', ylabel='flight_profit'>"
      ]
     },
     "execution_count": 46,
     "metadata": {},
     "output_type": "execute_result"
    },
    {
     "data": {
      "image/png": "[encoded data removed]",
      "text/plain": [
       "<Figure size 432x288 with 1 Axes>"
      ]
     },
     "metadata": {
      "needs_background": "light"
     },
     "output_type": "display_data"
    }
   ],
   "source": [
    "#куда какие самолеты летают и сколько прибыли приносят (в Новокузнецк тоже летают, но там есть вопросы)\n",
    "\n",
    "sns.boxplot(x = 'arrival_airport', y = 'flight_profit', data = df, hue = 'model')"
   ]
  },
  {
   "cell_type": "code",
   "execution_count": 47,
   "metadata": {},
   "outputs": [
    {
     "data": {
      "text/plain": [
       "<AxesSubplot:xlabel='day_of_week', ylabel='flight_profit'>"
      ]
     },
     "execution_count": 47,
     "metadata": {},
     "output_type": "execute_result"
    },
    {
     "data": {
      "image/png": "[encoded data removed]",
      "text/plain": [
       "<Figure size 432x288 with 1 Axes>"
      ]
     },
     "metadata": {
      "needs_background": "light"
     },
     "output_type": "display_data"
    }
   ],
   "source": [
    "#мы уже поняли какие самолеты куда летают, поэтому можно принять одно за второе и посмотреть, что там по дням недели\n",
    "\n",
    "sns.boxplot(x = 'day_of_week', y = 'flight_profit', data = df, hue = 'model')"
   ]
  },
  {
   "cell_type": "code",
   "execution_count": 44,
   "metadata": {},
   "outputs": [
    {
     "data": {
      "text/plain": [
       "<AxesSubplot:xlabel='day_of_week', ylabel='count'>"
      ]
     },
     "execution_count": 44,
     "metadata": {},
     "output_type": "execute_result"
    },
    {
     "data": {
      "image/png": "[encoded data removed]",
      "text/plain": [
       "<Figure size 432x288 with 1 Axes>"
      ]
     },
     "metadata": {
      "needs_background": "light"
     },
     "output_type": "display_data"
    }
   ],
   "source": [
    "sns.countplot(x = 'day_of_week', data = df)"
   ]
  },
  {
   "cell_type": "code",
   "execution_count": null,
   "metadata": {},
   "outputs": [],
   "source": []
  }
 ],
 "metadata": {
  "kernelspec": {
   "display_name": "Python 3",
   "language": "python",
   "name": "python3"
  },
  "language_info": {
   "codemirror_mode": {
    "name": "ipython",
    "version": 3
   },
   "file_extension": ".py",
   "mimetype": "text/x-python",
   "name": "python",
   "nbconvert_exporter": "python",
   "pygments_lexer": "ipython3",
   "version": "3.8.5"
  }
 },
 "nbformat": 4,
 "nbformat_minor": 4
}
