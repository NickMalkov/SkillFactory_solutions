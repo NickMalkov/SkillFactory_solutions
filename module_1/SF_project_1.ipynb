{
 "cells": [
  {
   "cell_type": "code",
   "execution_count": 1,
   "metadata": {},
   "outputs": [],
   "source": [
    "import numpy as np\n",
    "import pandas as pd\n",
    "import seaborn as sns\n",
    "import matplotlib.pyplot as plt\n",
    "from collections import Counter"
   ]
  },
  {
   "cell_type": "code",
   "execution_count": 2,
   "metadata": {},
   "outputs": [
    {
     "data": {
      "text/html": [
       "<div>\n",
       "<style scoped>\n",
       "    .dataframe tbody tr th:only-of-type {\n",
       "        vertical-align: middle;\n",
       "    }\n",
       "\n",
       "    .dataframe tbody tr th {\n",
       "        vertical-align: top;\n",
       "    }\n",
       "\n",
       "    .dataframe thead th {\n",
       "        text-align: right;\n",
       "    }\n",
       "</style>\n",
       "<table border=\"1\" class=\"dataframe\">\n",
       "  <thead>\n",
       "    <tr style=\"text-align: right;\">\n",
       "      <th></th>\n",
       "      <th>imdb_id</th>\n",
       "      <th>budget</th>\n",
       "      <th>revenue</th>\n",
       "      <th>original_title</th>\n",
       "      <th>cast</th>\n",
       "      <th>director</th>\n",
       "      <th>tagline</th>\n",
       "      <th>overview</th>\n",
       "      <th>runtime</th>\n",
       "      <th>genres</th>\n",
       "      <th>production_companies</th>\n",
       "      <th>release_date</th>\n",
       "      <th>vote_average</th>\n",
       "      <th>release_year</th>\n",
       "    </tr>\n",
       "  </thead>\n",
       "  <tbody>\n",
       "    <tr>\n",
       "      <th>1745</th>\n",
       "      <td>tt0808279</td>\n",
       "      <td>15000000</td>\n",
       "      <td>7938872</td>\n",
       "      <td>Funny Games</td>\n",
       "      <td>Naomi Watts|Tim Roth|Michael Pitt|Brady Corbet...</td>\n",
       "      <td>Michael Haneke</td>\n",
       "      <td>Let the games begin...</td>\n",
       "      <td>When Ann, husband George and son Georgie arriv...</td>\n",
       "      <td>112</td>\n",
       "      <td>Horror|Thriller|Crime</td>\n",
       "      <td>Halcyon Pictures|Kinematograf Wien</td>\n",
       "      <td>10/20/2007</td>\n",
       "      <td>6.2</td>\n",
       "      <td>2007</td>\n",
       "    </tr>\n",
       "    <tr>\n",
       "      <th>1726</th>\n",
       "      <td>tt0427327</td>\n",
       "      <td>50000000</td>\n",
       "      <td>90450008</td>\n",
       "      <td>Hairspray</td>\n",
       "      <td>John Travolta|Michelle Pfeiffer|Christopher Wa...</td>\n",
       "      <td>Adam Shankman</td>\n",
       "      <td>When you follow your own beat, the world will ...</td>\n",
       "      <td>Pleasantly plump teenager, Tracy Turnblad and ...</td>\n",
       "      <td>117</td>\n",
       "      <td>Comedy|Music|Romance</td>\n",
       "      <td>New Line Cinema</td>\n",
       "      <td>7/13/2007</td>\n",
       "      <td>6.4</td>\n",
       "      <td>2007</td>\n",
       "    </tr>\n",
       "    <tr>\n",
       "      <th>1207</th>\n",
       "      <td>tt1588173</td>\n",
       "      <td>35000000</td>\n",
       "      <td>116980662</td>\n",
       "      <td>Warm Bodies</td>\n",
       "      <td>Nicholas Hoult|Teresa Palmer|Analeigh Tipton|R...</td>\n",
       "      <td>Jonathan Levine</td>\n",
       "      <td>Cold body. Warm heart.</td>\n",
       "      <td>After a zombie becomes involved with the girlf...</td>\n",
       "      <td>97</td>\n",
       "      <td>Horror|Comedy|Romance</td>\n",
       "      <td>Summit Entertainment</td>\n",
       "      <td>1/31/2013</td>\n",
       "      <td>6.4</td>\n",
       "      <td>2013</td>\n",
       "    </tr>\n",
       "    <tr>\n",
       "      <th>1097</th>\n",
       "      <td>tt0283426</td>\n",
       "      <td>20000000</td>\n",
       "      <td>135680000</td>\n",
       "      <td>The Jungle Book 2</td>\n",
       "      <td>John Goodman|Haley Joel Osment|Mae Whitman|Phi...</td>\n",
       "      <td>Steve Trenbirth</td>\n",
       "      <td>Feel the jungle beat</td>\n",
       "      <td>Mowgli, missing the jungle and his old friends...</td>\n",
       "      <td>72</td>\n",
       "      <td>Family|Animation|Adventure</td>\n",
       "      <td>Walt Disney Pictures|Walt Disney Television An...</td>\n",
       "      <td>2/7/2003</td>\n",
       "      <td>5.6</td>\n",
       "      <td>2003</td>\n",
       "    </tr>\n",
       "    <tr>\n",
       "      <th>285</th>\n",
       "      <td>tt0765010</td>\n",
       "      <td>26000000</td>\n",
       "      <td>43318349</td>\n",
       "      <td>Brothers</td>\n",
       "      <td>Tobey Maguire|Jake Gyllenhaal|Natalie Portman|...</td>\n",
       "      <td>Jim Sheridan</td>\n",
       "      <td>There are two sides to every family.</td>\n",
       "      <td>When his helicopter goes down during his fourt...</td>\n",
       "      <td>104</td>\n",
       "      <td>Drama|Thriller|War</td>\n",
       "      <td>Lionsgate|Relativity Media|Sighvatsson Films|M...</td>\n",
       "      <td>1/27/2009</td>\n",
       "      <td>6.7</td>\n",
       "      <td>2009</td>\n",
       "    </tr>\n",
       "  </tbody>\n",
       "</table>\n",
       "</div>"
      ],
      "text/plain": [
       "        imdb_id    budget    revenue     original_title  \\\n",
       "1745  tt0808279  15000000    7938872        Funny Games   \n",
       "1726  tt0427327  50000000   90450008          Hairspray   \n",
       "1207  tt1588173  35000000  116980662        Warm Bodies   \n",
       "1097  tt0283426  20000000  135680000  The Jungle Book 2   \n",
       "285   tt0765010  26000000   43318349           Brothers   \n",
       "\n",
       "                                                   cast         director  \\\n",
       "1745  Naomi Watts|Tim Roth|Michael Pitt|Brady Corbet...   Michael Haneke   \n",
       "1726  John Travolta|Michelle Pfeiffer|Christopher Wa...    Adam Shankman   \n",
       "1207  Nicholas Hoult|Teresa Palmer|Analeigh Tipton|R...  Jonathan Levine   \n",
       "1097  John Goodman|Haley Joel Osment|Mae Whitman|Phi...  Steve Trenbirth   \n",
       "285   Tobey Maguire|Jake Gyllenhaal|Natalie Portman|...     Jim Sheridan   \n",
       "\n",
       "                                                tagline  \\\n",
       "1745                             Let the games begin...   \n",
       "1726  When you follow your own beat, the world will ...   \n",
       "1207                             Cold body. Warm heart.   \n",
       "1097                               Feel the jungle beat   \n",
       "285                There are two sides to every family.   \n",
       "\n",
       "                                               overview  runtime  \\\n",
       "1745  When Ann, husband George and son Georgie arriv...      112   \n",
       "1726  Pleasantly plump teenager, Tracy Turnblad and ...      117   \n",
       "1207  After a zombie becomes involved with the girlf...       97   \n",
       "1097  Mowgli, missing the jungle and his old friends...       72   \n",
       "285   When his helicopter goes down during his fourt...      104   \n",
       "\n",
       "                          genres  \\\n",
       "1745       Horror|Thriller|Crime   \n",
       "1726        Comedy|Music|Romance   \n",
       "1207       Horror|Comedy|Romance   \n",
       "1097  Family|Animation|Adventure   \n",
       "285           Drama|Thriller|War   \n",
       "\n",
       "                                   production_companies release_date  \\\n",
       "1745                 Halcyon Pictures|Kinematograf Wien   10/20/2007   \n",
       "1726                                    New Line Cinema    7/13/2007   \n",
       "1207                               Summit Entertainment    1/31/2013   \n",
       "1097  Walt Disney Pictures|Walt Disney Television An...     2/7/2003   \n",
       "285   Lionsgate|Relativity Media|Sighvatsson Films|M...    1/27/2009   \n",
       "\n",
       "      vote_average  release_year  \n",
       "1745           6.2          2007  \n",
       "1726           6.4          2007  \n",
       "1207           6.4          2013  \n",
       "1097           5.6          2003  \n",
       "285            6.7          2009  "
      ]
     },
     "execution_count": 2,
     "metadata": {},
     "output_type": "execute_result"
    }
   ],
   "source": [
    "data = pd.read_csv('movie_bd_v5.xls')\n",
    "data.sample(5)"
   ]
  },
  {
   "cell_type": "code",
   "execution_count": 5,
   "metadata": {},
   "outputs": [
    {
     "data": {
      "text/plain": [
       "768    Winnie the Pooh\n",
       "Name: original_title, dtype: object"
      ]
     },
     "execution_count": 5,
     "metadata": {},
     "output_type": "execute_result"
    }
   ],
   "source": [
    "data[data.runtime == data.runtime.min()].original_title"
   ]
  },
  {
   "cell_type": "code",
   "execution_count": 8,
   "metadata": {},
   "outputs": [
    {
     "data": {
      "text/plain": [
       "107"
      ]
     },
     "execution_count": 8,
     "metadata": {},
     "output_type": "execute_result"
    }
   ],
   "source": [
    "round(data.runtime.median())"
   ]
  },
  {
   "cell_type": "code",
   "execution_count": 5,
   "metadata": {},
   "outputs": [],
   "source": [
    "data['profit'] = data.revenue - data.budget"
   ]
  },
  {
   "cell_type": "code",
   "execution_count": 20,
   "metadata": {},
   "outputs": [
    {
     "data": {
      "text/plain": [
       "1245    tt1210819\n",
       "Name: imdb_id, dtype: object"
      ]
     },
     "execution_count": 20,
     "metadata": {},
     "output_type": "execute_result"
    }
   ],
   "source": [
    "data[data.profit == data.profit.min()].imdb_id"
   ]
  },
  {
   "cell_type": "code",
   "execution_count": 42,
   "metadata": {},
   "outputs": [],
   "source": [
    "a = data[data.release_year == 2008]"
   ]
  },
  {
   "cell_type": "code",
   "execution_count": 43,
   "metadata": {},
   "outputs": [
    {
     "data": {
      "text/plain": [
       "599    The Dark Knight\n",
       "Name: original_title, dtype: object"
      ]
     },
     "execution_count": 43,
     "metadata": {},
     "output_type": "execute_result"
    }
   ],
   "source": [
    "a[a.profit == a.profit.max()].original_title"
   ]
  },
  {
   "cell_type": "code",
   "execution_count": 44,
   "metadata": {},
   "outputs": [],
   "source": [
    "b = data[(data.release_year >= 2012)&(data.release_year <= 2014)]"
   ]
  },
  {
   "cell_type": "code",
   "execution_count": 46,
   "metadata": {},
   "outputs": [
    {
     "data": {
      "text/plain": [
       "1245    The Lone Ranger\n",
       "Name: original_title, dtype: object"
      ]
     },
     "execution_count": 46,
     "metadata": {},
     "output_type": "execute_result"
    }
   ],
   "source": [
    "b[b.profit == b.profit.min()].original_title"
   ]
  },
  {
   "cell_type": "code",
   "execution_count": 47,
   "metadata": {},
   "outputs": [
    {
     "data": {
      "text/plain": [
       "array(['Action|Adventure|Science Fiction|Thriller',\n",
       "       'Adventure|Science Fiction|Thriller',\n",
       "       'Action|Adventure|Science Fiction|Fantasy',\n",
       "       'Action|Crime|Thriller', 'Western|Drama|Adventure|Thriller',\n",
       "       'Science Fiction|Action|Thriller|Adventure',\n",
       "       'Drama|Adventure|Science Fiction',\n",
       "       'Family|Animation|Adventure|Comedy', 'Comedy|Animation|Family',\n",
       "       'Action|Adventure|Crime',\n",
       "       'Science Fiction|Fantasy|Action|Adventure',\n",
       "       'Drama|Science Fiction', 'Action|Comedy|Science Fiction',\n",
       "       'Action|Adventure|Science Fiction', 'Crime|Drama|Mystery|Western',\n",
       "       'Crime|Action|Thriller', 'Science Fiction|Action|Adventure',\n",
       "       'Romance|Fantasy|Family|Drama', 'War|Adventure|Science Fiction',\n",
       "       'Action|Family|Science Fiction|Adventure|Mystery', 'Action|Drama',\n",
       "       'Action|Drama|Thriller', 'Drama|Romance', 'Comedy|Drama', 'Action',\n",
       "       'Comedy', 'Crime|Comedy|Action|Adventure',\n",
       "       'Drama|Thriller|History', 'Action|Science Fiction|Thriller',\n",
       "       'Crime|Action|Science Fiction', 'Comedy|Music', 'Thriller|Drama',\n",
       "       'Adventure|Horror|Comedy', 'Drama|Thriller',\n",
       "       'Adventure|Animation|Comedy|Family|Fantasy',\n",
       "       'Action|Crime|Drama|Mystery|Thriller', 'Drama|Music',\n",
       "       'Fantasy|Action|Adventure', 'Comedy|Action|Adventure',\n",
       "       'Fantasy|Drama|Romance',\n",
       "       'Fantasy|Comedy|Animation|Science Fiction|Family',\n",
       "       'Drama|Mystery|Romance', 'Romance|Drama', 'Adventure|Drama',\n",
       "       'Drama', 'Science Fiction|Mystery|Thriller', 'Comedy|Adventure',\n",
       "       'Mystery|Crime|Action|Thriller|Drama', 'Action|Comedy|Crime',\n",
       "       'Romance|Comedy|Crime|Drama',\n",
       "       'Thriller|Drama|Adventure|Action|History', 'Drama|Thriller|War',\n",
       "       'Crime|Thriller', 'Adventure|Family|Fantasy',\n",
       "       'Adventure|Animation|Comedy|Family', 'Animation|Comedy|Family',\n",
       "       'Family|Comedy', 'Adventure|Drama|Thriller', 'Adventure|Comedy',\n",
       "       'Horror|Thriller', 'Thriller|Mystery',\n",
       "       'Adventure|Animation|Fantasy', 'Romance|Comedy', 'Horror',\n",
       "       'Action|Adventure|Comedy|Family', 'Crime|Drama',\n",
       "       'Horror|Comedy|Fantasy', 'Action|Thriller',\n",
       "       'Science Fiction|Thriller', 'Thriller|Action|Crime',\n",
       "       'Mystery|Thriller|Fantasy|Horror|Drama', 'Comedy|Drama|Music',\n",
       "       'Crime|Drama|Mystery', 'Family|Animation',\n",
       "       'Adventure|Drama|Family', 'Action|Drama|Crime',\n",
       "       'Action|Crime|Comedy', 'Drama|Horror|Thriller',\n",
       "       'Drama|Science Fiction|Thriller', 'Drama|Comedy', 'Drama|History',\n",
       "       'Drama|Music|Romance', 'Comedy|Drama|War',\n",
       "       'Adventure|Comedy|Romance', 'Comedy|Music|War',\n",
       "       'Drama|Adventure|Comedy', 'Drama|Music|Adventure|Fantasy',\n",
       "       'Adventure|Drama|Science Fiction',\n",
       "       'Action|Science Fiction|Adventure',\n",
       "       'Science Fiction|Adventure|Thriller', 'Adventure|Fantasy',\n",
       "       'Adventure|Family|Animation|Action|Comedy',\n",
       "       'History|Drama|Thriller|War',\n",
       "       'Action|Mystery|Science Fiction|Thriller',\n",
       "       'Mystery|Thriller|Drama', 'War|Drama|Action',\n",
       "       'Adventure|Comedy|Fantasy|Family',\n",
       "       'Action|Adventure|Fantasy|Science Fiction',\n",
       "       'Action|Science Fiction',\n",
       "       'Science Fiction|Action|Adventure|Fantasy|Comedy',\n",
       "       'Crime|Drama|Thriller', 'Science Fiction|Action|Drama|Thriller',\n",
       "       'Action|Adventure|Fantasy', 'Action|Comedy', 'War|Action',\n",
       "       'Adventure|Drama|Action',\n",
       "       'Fantasy|Adventure|Action|Family|Romance',\n",
       "       'Fantasy|Action|Adventure|Animation|Comedy',\n",
       "       'Action|Adventure|Thriller',\n",
       "       'Adventure|Fantasy|Animation|Comedy|Action',\n",
       "       'Horror|Action|Drama|Fantasy|War', 'Fantasy|Comedy|Music',\n",
       "       'Action|War', 'Crime|Comedy|Action',\n",
       "       'Crime|Drama|Mystery|Thriller', 'Thriller|Action|Science Fiction',\n",
       "       'Action|Thriller|Crime|Drama', 'Action|Adventure',\n",
       "       'Drama|Adventure', 'Romance|Drama|Music',\n",
       "       'Comedy|Romance|Crime|Drama|Mystery', 'Action|Thriller|Mystery',\n",
       "       'Science Fiction|Action', 'Thriller|Science Fiction|Drama|Mystery',\n",
       "       'Comedy|Romance', 'Animation|Adventure|Family',\n",
       "       'Animation|Adventure|Comedy|Family', 'War|Drama|History|Action',\n",
       "       'Drama|War', 'History|Drama',\n",
       "       'Action|Adventure|History|Romance|Drama',\n",
       "       'Music|Comedy|Drama|Family', 'Action|Crime|Drama|Thriller',\n",
       "       'Animation|Comedy|Family|Fantasy', 'Thriller|Action',\n",
       "       'Animation|Comedy|Adventure|Family', 'Action|Drama|Thriller|Crime',\n",
       "       'Thriller', 'Drama|Romance|War', 'Action|Crime|Drama',\n",
       "       'Drama|Fantasy|Mystery|Romance', 'Mystery|Thriller|Action',\n",
       "       'War|Drama', 'Thriller|Science Fiction|Drama',\n",
       "       'Comedy|Drama|Crime', 'Thriller|Crime|Drama|Mystery',\n",
       "       'Family|Drama', 'Comedy|Adventure|Crime|Family',\n",
       "       'Family|Adventure|Science Fiction', 'Thriller|Crime|Drama',\n",
       "       'Drama|Action|Thriller|War',\n",
       "       'Fantasy|Action|Adventure|Science Fiction|Thriller',\n",
       "       'Adventure|Fantasy|Family', 'Animation|Comedy|Family|Adventure',\n",
       "       'Drama|Action|Thriller|Science Fiction',\n",
       "       'Action|Thriller|Science Fiction',\n",
       "       'Adventure|Drama|Action|Comedy|Thriller', 'Comedy|Drama|Romance',\n",
       "       'Action|Mystery|Science Fiction',\n",
       "       'Action|Adventure|Animation|Science Fiction|Thriller',\n",
       "       'Romance|Family|Animation|Music', 'Comedy|Horror',\n",
       "       'Adventure|Fantasy|Drama|Romance', 'Comedy|Romance|Drama',\n",
       "       'Adventure|Action|Thriller|Science Fiction', 'Animation|Family',\n",
       "       'Adventure|Fantasy|Action|Comedy|Family', 'Animation|Drama',\n",
       "       'Fantasy|Drama', 'Drama|Family', 'Drama|Crime|Thriller',\n",
       "       'Thriller|Science Fiction', 'Action|Thriller|Crime',\n",
       "       'Action|Horror|Mystery|Science Fiction|Thriller',\n",
       "       'Action|Adventure|Drama|Mystery|Science Fiction',\n",
       "       'Science Fiction|Drama', 'Fantasy|Action|Adventure|Family|Comedy',\n",
       "       'Thriller|Drama|Crime', 'Comedy|Romance|Fantasy',\n",
       "       'Science Fiction|Drama|Romance|Fantasy',\n",
       "       'Animation|Family|Adventure|Science Fiction',\n",
       "       'Drama|Thriller|Mystery', 'History|Crime|Drama',\n",
       "       'Horror|Thriller|Mystery', 'Horror|Mystery',\n",
       "       'Comedy|Family|Animation|Fantasy|Music',\n",
       "       'Comedy|Crime|Drama|Thriller',\n",
       "       'Adventure|Family|Fantasy|Science Fiction|Thriller',\n",
       "       'Horror|Mystery|Thriller',\n",
       "       'Fantasy|Horror|Action|Thriller|Science Fiction',\n",
       "       'Drama|History|Romance', 'Thriller|Mystery|Adventure',\n",
       "       'Action|Crime|Mystery|Thriller', 'Action|Adventure|Drama|Thriller',\n",
       "       'Drama|Comedy|Romance', 'Comedy|War', 'Comedy|Drama|Family|Music',\n",
       "       'Adventure|Comedy|Science Fiction',\n",
       "       'Science Fiction|Animation|Family|Comedy|Adventure',\n",
       "       'Mystery|Horror', 'Comedy|Family', 'Adventure|Drama|History',\n",
       "       'Drama|Crime', 'Adventure|Fantasy|Action|Thriller',\n",
       "       'Animation|Action|Family|Science Fiction', 'Drama|Thriller|Crime',\n",
       "       'Documentary', 'Comedy|Drama|Family|Music|Romance',\n",
       "       'Adventure|Comedy|Family|Fantasy|Science Fiction',\n",
       "       'Thriller|Crime|Drama|Action',\n",
       "       'Adventure|Fantasy|Action|Science Fiction',\n",
       "       'Action|Thriller|Science Fiction|Mystery|Adventure',\n",
       "       'Adventure|Action|Science Fiction', 'Family|Fantasy|Adventure',\n",
       "       'Drama|Mystery|Thriller', 'Action|Animation|Family',\n",
       "       'Fantasy|Adventure|Animation|Family', 'Animation|Family|Comedy',\n",
       "       'Action|Thriller|Crime|Mystery', 'Action|Crime',\n",
       "       'Action|Thriller|Romance', 'Adventure|Fantasy|Action|Romance',\n",
       "       'Drama|Adventure|Western', 'Adventure|Fantasy|Action',\n",
       "       'Fantasy|Adventure|Action|Comedy|Drama', 'Action|Adventure|Comedy',\n",
       "       'Action|Science Fiction|Adventure|Thriller',\n",
       "       'Comedy|Adventure|Fantasy|Animation|Family',\n",
       "       'Thriller|Action|Adventure|Comedy|Crime',\n",
       "       'Action|Adventure|Comedy|Crime|Thriller', 'Action|Comedy|Thriller',\n",
       "       'Animation|Action|Comedy|Family|Science Fiction',\n",
       "       'Action|Adventure|Family|Fantasy', 'Drama|Adventure|History',\n",
       "       'Action|Science Fiction|Thriller|Crime', 'Fantasy|Horror|Thriller',\n",
       "       'Horror|Crime', 'Action|Adventure|Drama|Family',\n",
       "       'Romance|Drama|Thriller|Crime',\n",
       "       'Action|Western|Drama|Fantasy|Thriller', 'Horror|Comedy',\n",
       "       'Action|Comedy|Thriller|Romance', 'Fantasy|Comedy',\n",
       "       'Science Fiction|Comedy|Adventure', 'Drama|Horror|Mystery',\n",
       "       'Animation|Adventure|Family|Fantasy',\n",
       "       'Drama|Romance|Science Fiction', 'Drama|Action|Thriller',\n",
       "       'Comedy|Family|Fantasy', 'Science Fiction', 'Action|Comedy|Family',\n",
       "       'Drama|Fantasy', 'Drama|Horror|Mystery|Thriller',\n",
       "       'Crime|Drama|History', 'Mystery|Horror|Action',\n",
       "       'Comedy|Family|Animation|Adventure', 'Action|Adventure|Drama',\n",
       "       'Action|Comedy|Horror|Mystery|Science Fiction', 'Comedy|Thriller',\n",
       "       'Action|Adventure|Horror|Science Fiction',\n",
       "       'Drama|Comedy|Romance|Foreign', 'Thriller|Drama|Mystery',\n",
       "       'Fantasy|Animation|Family|Comedy',\n",
       "       'Drama|Science Fiction|Adventure', 'Thriller|Crime',\n",
       "       'History|Romance|War', 'Action|Adventure|Drama|Fantasy|Horror',\n",
       "       'Comedy|Family|Romance',\n",
       "       'Thriller|Science Fiction|Action|Adventure', 'War',\n",
       "       'Action|History|War', 'Adventure|Drama|Romance|Action',\n",
       "       'Action|Comedy|Crime|Thriller', 'Horror|Drama|Mystery|Thriller',\n",
       "       'Adventure|Fantasy|Animation|Action|Comedy',\n",
       "       'Drama|Mystery|Romance|Science Fiction|Thriller',\n",
       "       'Adventure|Action|Animation|Fantasy|Science Fiction',\n",
       "       'Drama|Thriller|Mystery|Romance', 'Comedy|Family|Romance|Fantasy',\n",
       "       'Action|Drama|Thriller|War', 'Crime|Mystery|Thriller|Action',\n",
       "       'Horror|Science Fiction', 'Action|Comedy|Crime|Romance',\n",
       "       'Music|Drama|Comedy', 'Drama|Romance|Thriller', 'Drama|Mystery',\n",
       "       'Mystery|Adventure|Comedy|Romance|Drama',\n",
       "       'Action|Adventure|Comedy|Thriller|Crime',\n",
       "       'Action|Horror|Science Fiction', 'Comedy|Romance|Crime',\n",
       "       'Adventure|Animation|Action|Comedy|Family',\n",
       "       'Drama|Family|Romance|Music', 'Action|Comedy|Family|Adventure',\n",
       "       'Action|Western', 'Crime|Drama|Thriller|Horror',\n",
       "       'Mystery|Thriller|Crime', 'Comedy|Family|Fantasy|Science Fiction',\n",
       "       'Crime|Comedy', 'Action|Horror|Thriller', 'Drama|Comedy|Crime',\n",
       "       'Drama|Action|Crime|Thriller', 'Adventure|Action',\n",
       "       'Adventure|Action|Thriller|Crime',\n",
       "       'Fantasy|Drama|Thriller|Mystery|Romance',\n",
       "       'Adventure|Fantasy|Science Fiction',\n",
       "       'Action|Science Fiction|Adventure|Comedy|Family',\n",
       "       'Action|Adventure|Thriller|Crime', 'Drama|Thriller|History|War',\n",
       "       'Adventure|Action|Drama|Fantasy', 'Fantasy|Action',\n",
       "       'Music|Drama|Romance', 'Animation|Family|Adventure|Comedy',\n",
       "       'Drama|Action', 'Fantasy|Comedy|Family|Romance',\n",
       "       'Drama|Action|Thriller|Crime', 'Comedy|Drama|Music|Romance',\n",
       "       'Horror|Thriller|Crime', 'Family|Action|Science Fiction',\n",
       "       'Animation|Comedy|Family|Adventure|Fantasy',\n",
       "       'Action|Adventure|Crime|Drama|Thriller', 'Thriller|Crime|Mystery',\n",
       "       'Comedy|Action', 'Action|Drama|History|War',\n",
       "       'Thriller|Horror|Mystery', 'Fantasy|Action|Science Fiction',\n",
       "       'Drama|Mystery|Science Fiction|Thriller',\n",
       "       'Drama|Thriller|Crime|Mystery',\n",
       "       'Action|Comedy|Thriller|Crime|Science Fiction',\n",
       "       'Adventure|Fantasy|Drama|Science Fiction|Romance',\n",
       "       'Adventure|Comedy|Family', 'Adventure|Comedy|Drama|Romance',\n",
       "       'Comedy|Science Fiction|Adventure|Family',\n",
       "       'Horror|Science Fiction|Thriller',\n",
       "       'Mystery|Drama|Crime|Thriller|Horror',\n",
       "       'Adventure|Comedy|Family|Fantasy', 'Adventure|Action|Fantasy',\n",
       "       'Thriller|Action|Drama|Science Fiction',\n",
       "       'Fantasy|Thriller|Action|Crime',\n",
       "       'Thriller|Science Fiction|Mystery', 'Action|Thriller|Adventure',\n",
       "       'Thriller|Crime|Mystery|Drama', 'Thriller|Mystery|Science Fiction',\n",
       "       'Comedy|Crime', 'Action|Science Fiction|Drama',\n",
       "       'Adventure|Action|Crime|Mystery',\n",
       "       'Adventure|Animation|Action|Family|Mystery',\n",
       "       'Action|Fantasy|Thriller', 'Adventure|Fantasy|Romance',\n",
       "       'Action|Thriller|Science Fiction|Adventure',\n",
       "       'Comedy|Romance|Family', 'Action|Science Fiction|Thriller|Western',\n",
       "       'Animation|Comedy|Family|Western|Adventure',\n",
       "       'Drama|Thriller|Horror', 'Adventure|Action|Thriller|Comedy',\n",
       "       'Action|Fantasy|Horror|Science Fiction|Thriller',\n",
       "       'Thriller|Action|Mystery', 'Action|Mystery|Thriller',\n",
       "       'Thriller|Romance|Fantasy', 'Fantasy|Action|Drama',\n",
       "       'Drama|Comedy|Family', 'Horror|Action|Thriller|Science Fiction',\n",
       "       'Thriller|Drama|Horror',\n",
       "       'Action|Adventure|Animation|Family|Fantasy',\n",
       "       'Crime|Adventure|Action|Comedy|Thriller',\n",
       "       'Drama|Thriller|Science Fiction', 'Drama|Fantasy|Romance',\n",
       "       'Horror|Science Fiction|Mystery|Thriller',\n",
       "       'Adventure|Fantasy|Action|Comedy',\n",
       "       'Horror|Thriller|Science Fiction', 'Music|Family|Animation|Comedy',\n",
       "       'Adventure|Animation|Family',\n",
       "       'Comedy|Fantasy|Family|Music|Animation',\n",
       "       'Animation|Family|Adventure|Comedy|Fantasy', 'Animation',\n",
       "       'Action|Comedy|Thriller|Crime', 'Comedy|Family|Music',\n",
       "       'Drama|Crime|History', 'Action|Comedy|Adventure',\n",
       "       'Drama|Action|Thriller|Crime|War',\n",
       "       'Drama|Thriller|Science Fiction|Mystery',\n",
       "       'Documentary|Music|Family', 'Action|Drama|Mystery|Thriller',\n",
       "       'Horror|Action|Science Fiction',\n",
       "       'Action|Adventure|Comedy|Science Fiction',\n",
       "       'Action|Thriller|Science Fiction|Mystery',\n",
       "       'Adventure|Animation|Family|Fantasy|Science Fiction',\n",
       "       'Adventure|Action|Thriller',\n",
       "       'Science Fiction|Horror|Action|Thriller', 'Drama|History|Crime',\n",
       "       'Family|Adventure|Animation|Comedy', 'Drama|Family|Romance',\n",
       "       'Action|Thriller|Drama',\n",
       "       'Science Fiction|Action|Adventure|Thriller',\n",
       "       'Science Fiction|Comedy|Crime|Action', 'Fantasy|Comedy|Family',\n",
       "       'Crime|Mystery|Thriller', 'Mystery|Adventure|Comedy',\n",
       "       'Western|Animation|Adventure|Comedy|Family',\n",
       "       'Action|Fantasy|Adventure', 'Action|Adventure|Comedy|Thriller',\n",
       "       'Comedy|Crime|Drama', 'Science Fiction|Adventure|Action',\n",
       "       'Drama|Action|History|War', 'Action|Adventure|Crime|Thriller',\n",
       "       'Thriller|Drama|History', 'Drama|Fantasy|Horror',\n",
       "       'Adventure|Fantasy|Animation|Family',\n",
       "       'Action|Comedy|Crime|Drama|Music', 'Thriller|Crime|Romance',\n",
       "       'Action|Fantasy|Science Fiction|Thriller',\n",
       "       'Drama|Mystery|Thriller|Crime', 'Adventure',\n",
       "       'Drama|Science Fiction|Mystery|Romance',\n",
       "       'War|Adventure|Drama|Romance', 'Drama|Mystery|Thriller|Horror',\n",
       "       'Comedy|Crime|Drama|Romance|Thriller',\n",
       "       'Adventure|Family|Science Fiction|Thriller',\n",
       "       'Action|Adventure|Comedy|Drama|Family', 'Crime|Thriller|Horror',\n",
       "       'Drama|Romance|Comedy|Music', 'Fantasy|Action|Horror',\n",
       "       'Drama|Western', 'Science Fiction|Adventure|Mystery',\n",
       "       'Animation|Adventure|Comedy|Family|Action',\n",
       "       'Adventure|Fantasy|Drama', 'Comedy|Fantasy',\n",
       "       'Family|Animation|Comedy|Adventure', 'Comedy|Music|Romance',\n",
       "       'Science Fiction|Adventure|Fantasy', 'Fantasy|Animation|Family',\n",
       "       'Action|Horror|Fantasy', 'Romance|Science Fiction|Drama|Fantasy',\n",
       "       'Thriller|Action|Adventure|Science Fiction',\n",
       "       'Adventure|Fantasy|Drama|Comedy|Science Fiction',\n",
       "       'Science Fiction|Drama|Thriller', 'Action|Thriller|War',\n",
       "       'Romance|Comedy|Drama', 'Thriller|Action|Drama|Crime',\n",
       "       'Animation|Adventure|Family|Comedy', 'Comedy|Crime|Thriller',\n",
       "       'Adventure|Drama|Romance', 'Horror|Thriller|Comedy',\n",
       "       'War|Action|Thriller|Science Fiction',\n",
       "       'Action|Comedy|Thriller|Crime|Romance',\n",
       "       'Drama|Action|Adventure|History|War', 'Documentary|Music',\n",
       "       'Fantasy|Action|Thriller', 'Romance|Comedy|Family|Fantasy',\n",
       "       'Fantasy|Action|Crime|Science Fiction|Thriller',\n",
       "       'Fantasy|Action|Thriller|Science Fiction',\n",
       "       'Family|Animation|Adventure', 'Adventure|Action|Comedy', 'Music',\n",
       "       'Drama|Action|War|History',\n",
       "       'Adventure|Action|Comedy|Thriller|Crime',\n",
       "       'Action|Adventure|Fantasy|Thriller', 'Mystery|Thriller',\n",
       "       'Action|Thriller|Adventure|Science Fiction',\n",
       "       'Action|Adventure|Comedy|Western', 'Action|Drama|War',\n",
       "       'Action|Adventure|Mystery|Science Fiction|Thriller',\n",
       "       'Action|Adventure|Comedy|Crime',\n",
       "       'Thriller|Fantasy|Comedy|Family|Mystery', 'Comedy|Drama|Family',\n",
       "       'Action|Drama|Mystery|Thriller|Crime',\n",
       "       'Adventure|Action|Comedy|Thriller', 'Western',\n",
       "       'Comedy|Adventure|Family', 'Drama|Horror|Science Fiction|Thriller',\n",
       "       'Action|Adventure|Comedy|Family|Science Fiction',\n",
       "       'Action|Comedy|Romance|Thriller',\n",
       "       'Drama|Fantasy|Horror|Mystery|Romance', 'Crime|Comedy|Romance',\n",
       "       'Drama|History|War', 'Horror|Action|Thriller',\n",
       "       'Drama|Thriller|Crime|Romance', 'Family|Documentary',\n",
       "       'Adventure|Action|Science Fiction|Thriller',\n",
       "       'Science Fiction|Thriller|Drama',\n",
       "       'Science Fiction|Thriller|Action|Adventure', 'Crime|Drama|Comedy',\n",
       "       'Action|Science Fiction|Adventure|Mystery',\n",
       "       'Romance|Science Fiction|Drama', 'Science Fiction|Action|Thriller',\n",
       "       'Action|Drama|Horror|Science Fiction|Thriller',\n",
       "       'Adventure|Comedy|Drama|Fantasy',\n",
       "       'Action|Crime|Drama|Comedy|Thriller', 'Horror|Comedy|Romance',\n",
       "       'Fantasy|Horror|Action', 'Action|Adventure|Drama|Mystery|Romance',\n",
       "       'Fantasy|Action|Comedy|Crime', 'Drama|Horror',\n",
       "       'Comedy|Music|Romance|Drama', 'Action|Family|Fantasy',\n",
       "       'Crime|Thriller|Drama', 'Comedy|Drama|History',\n",
       "       'Action|Adventure|Western', 'Crime|Drama|Action|Thriller',\n",
       "       'Fantasy|Adventure|Family', 'Thriller|Crime|Action',\n",
       "       'Action|Adventure|Romance|Science Fiction|Thriller',\n",
       "       'Drama|Thriller|Mystery|Action',\n",
       "       'Animation|Comedy|Adventure|Family|Science Fiction', 'Romance',\n",
       "       'Drama|Romance|Crime|Mystery', 'Animation|Family|Adventure',\n",
       "       'Fantasy|Family|Comedy|Animation',\n",
       "       'Action|Science Fiction|Adventure|Fantasy', 'Music|Drama',\n",
       "       'Animation|Music|Family', 'Action|Thriller|Fantasy',\n",
       "       'Adventure|Comedy|Family|Science Fiction',\n",
       "       'Action|Comedy|Drama|Family|Thriller',\n",
       "       'Adventure|Thriller|Science Fiction',\n",
       "       'Action|Thriller|Adventure|Crime',\n",
       "       'Animation|Comedy|Family|Science Fiction',\n",
       "       'Action|Crime|Adventure', 'Action|Comedy|Drama|Thriller',\n",
       "       'Action|Adventure|Drama|Western',\n",
       "       'Romance|Fantasy|Animation|Music',\n",
       "       'Drama|Mystery|Thriller|Fantasy', 'Comedy|Fantasy|Romance',\n",
       "       'Comedy|Family|Adventure|Fantasy|Romance', 'Romance|Drama|History',\n",
       "       'Action|Adventure|Science Fiction|Thriller|Horror',\n",
       "       'Adventure|Fantasy|Action|Comedy|Thriller',\n",
       "       'Mystery|Drama|Thriller|Crime', 'Drama|Action|History|Thriller',\n",
       "       'Crime|Drama|Horror|Thriller', 'Horror|Thriller|Drama',\n",
       "       'Comedy|Drama|Mystery|Romance', 'Romance|Comedy|Family',\n",
       "       'Comedy|Family|Adventure|Romance',\n",
       "       'Thriller|Science Fiction|Adventure|Action',\n",
       "       'Action|Adventure|Fantasy|Horror',\n",
       "       'Action|Adventure|Comedy|Drama|Mystery',\n",
       "       'Action|Comedy|Crime|Drama|Thriller',\n",
       "       'Action|Adventure|Drama|History|War',\n",
       "       'Adventure|Fantasy|Action|Family',\n",
       "       'Adventure|Crime|Drama|Mystery|Western',\n",
       "       'Action|Fantasy|Horror|Thriller', 'Thriller|Horror|Drama|Mystery',\n",
       "       'Action|Adventure|Horror|Thriller',\n",
       "       'Fantasy|Action|Science Fiction|Thriller',\n",
       "       'Music|Drama|Romance|Crime', 'Animation|Family|Comedy|Adventure',\n",
       "       'Action|Adventure|Comedy|Family|Fantasy',\n",
       "       'Comedy|Drama|Fantasy|Romance', 'Crime|Fantasy|Drama',\n",
       "       'Drama|Thriller|Action', 'Comedy|Drama|Family|Romance',\n",
       "       'Drama|Adventure|Science Fiction|Romance',\n",
       "       'Music|Animation|Comedy|Family', 'Fantasy|Action|Adventure|Family',\n",
       "       'Romance|Drama|Mystery', 'Thriller|Action|Adventure|Drama',\n",
       "       'Fantasy|Adventure|Animation|Comedy|Family',\n",
       "       'Comedy|Drama|Family|Fantasy|Romance', 'War|Drama|History',\n",
       "       'Comedy|Family|Adventure', 'Fantasy|Drama|Thriller|Romance',\n",
       "       'Adventure|Action|Drama|Thriller', 'Action|Adventure|Drama|War',\n",
       "       'Animation|Science Fiction|Thriller', 'Drama|History|Thriller',\n",
       "       'Horror|Action|Crime|Thriller', 'Action|Comedy|Documentary',\n",
       "       'Adventure|Action|Family', 'Fantasy|Romance|Family|Comedy',\n",
       "       'Adventure|Drama|War', 'Adventure|Comedy|Drama',\n",
       "       'Drama|History|Crime|Thriller|Action',\n",
       "       'War|Crime|Drama|Mystery|Romance',\n",
       "       'Action|Adventure|Drama|History|Romance',\n",
       "       'Comedy|Drama|Romance|Thriller',\n",
       "       'Action|Adventure|Fantasy|Horror|Science Fiction',\n",
       "       'Drama|Thriller|Fantasy|Mystery', 'Action|Adventure|Crime|Drama',\n",
       "       'Science Fiction|Drama|Romance',\n",
       "       'Action|Adventure|Animation|Family|Science Fiction',\n",
       "       'War|Adventure|Drama', 'Adventure|Action|Thriller|Mystery',\n",
       "       'Horror|Adventure|Action',\n",
       "       'Science Fiction|Action|Horror|Thriller|Adventure',\n",
       "       'Adventure|Fantasy|Comedy|Family',\n",
       "       'Animation|Action|Comedy|Family',\n",
       "       'Mystery|Action|Thriller|Science Fiction|Adventure',\n",
       "       'Adventure|Science Fiction|Action',\n",
       "       'War|History|Action|Adventure|Drama', 'Adventure|War|History',\n",
       "       'Western|History|War', 'Comedy|Drama|Horror',\n",
       "       'Thriller|Action|Comedy|Crime', 'Drama|Romance|Comedy',\n",
       "       'Western|Animation|Family|Comedy|Music', 'Western|Adventure',\n",
       "       'Music|Adventure|Animation|Action|Comedy',\n",
       "       'Music|Comedy|Family|Romance', 'Comedy|Thriller|Crime',\n",
       "       'Thriller|Drama|Romance', 'Drama|Mystery|Romance|Thriller',\n",
       "       'Crime|Drama|Horror|Mystery|Science Fiction',\n",
       "       'Mystery|Action|Drama|Thriller|Crime',\n",
       "       'Adventure|Fantasy|Family|Mystery',\n",
       "       'Drama|Horror|Action|Thriller|Science Fiction',\n",
       "       'Action|Adventure|Mystery|Thriller',\n",
       "       'Science Fiction|Horror|Thriller',\n",
       "       'Adventure|Fantasy|Romance|Family', 'Action|Adventure|War',\n",
       "       'Thriller|Action|Fantasy|Horror', 'Drama|Horror|Music',\n",
       "       'Comedy|Music|Family|Fantasy|Animation',\n",
       "       'Comedy|Family|Fantasy|Romance',\n",
       "       'Comedy|Adventure|Fantasy|Action|Science Fiction',\n",
       "       'Thriller|Action|Drama', 'Drama|Crime|Mystery|Thriller',\n",
       "       'Action|Adventure|Drama|History', 'Fantasy|Drama|Mystery',\n",
       "       'Action|Comedy|Drama', 'Action|Thriller|Comedy|Crime',\n",
       "       'Animation|Fantasy', 'Thriller|Action|Horror',\n",
       "       'Comedy|Drama|Adventure', 'Action|Horror|Crime',\n",
       "       'Crime|Horror|Mystery|Thriller', 'Action|Drama|Western',\n",
       "       'History|Drama|Thriller|Crime|Mystery',\n",
       "       'Action|Adventure|Crime|Drama|Fantasy', 'Crime|Horror|Thriller',\n",
       "       'Drama|Mystery|Crime', 'Action|Adventure|Fantasy|War',\n",
       "       'Adventure|Action|Comedy|Romance', 'Action|History',\n",
       "       'Action|Drama|Adventure', 'Family|Comedy|Fantasy',\n",
       "       'Fantasy|Comedy|Romance', 'Drama|History|War|Action',\n",
       "       'Drama|Comedy|Music', 'Thriller|Science Fiction|Action',\n",
       "       'Comedy|Crime|Action', 'Crime|Drama|Science Fiction|Thriller',\n",
       "       'Drama|Crime|Music', 'Horror|Drama|Thriller|Mystery',\n",
       "       'Comedy|Drama|Romance|Fantasy', 'Comedy|Drama|Romance|Music',\n",
       "       'Science Fiction|Comedy|Family|Romance',\n",
       "       'Drama|Adventure|Romance|Thriller',\n",
       "       'Animation|Action|Science Fiction|Family|Adventure',\n",
       "       'Fantasy|Comedy|Romance|Science Fiction',\n",
       "       'Action|Fantasy|Science Fiction', 'Action|Comedy|Drama|Romance',\n",
       "       'Horror|Family|Foreign'], dtype=object)"
      ]
     },
     "execution_count": 47,
     "metadata": {},
     "output_type": "execute_result"
    }
   ],
   "source": [
    "data.genres.unique()"
   ]
  },
  {
   "cell_type": "code",
   "execution_count": 49,
   "metadata": {},
   "outputs": [
    {
     "data": {
      "text/plain": [
       "723    Pirates of the Caribbean: On Stranger Tides\n",
       "Name: original_title, dtype: object"
      ]
     },
     "execution_count": 49,
     "metadata": {},
     "output_type": "execute_result"
    }
   ],
   "source": [
    "data[data.budget  == data.budget.max()].original_title"
   ]
  },
  {
   "cell_type": "code",
   "execution_count": 22,
   "metadata": {},
   "outputs": [
    {
     "data": {
      "text/plain": [
       "1478"
      ]
     },
     "execution_count": 22,
     "metadata": {},
     "output_type": "execute_result"
    }
   ],
   "source": [
    "data[data.profit > 0].profit.count()"
   ]
  },
  {
   "cell_type": "code",
   "execution_count": 25,
   "metadata": {},
   "outputs": [],
   "source": [
    "data_11 = data.copy()\n",
    "data_11['genres'] = data_11.genres.str.split('|')\n",
    "data_11_1 = data_11.explode('genres')\n",
    "data_11_1.genres.value_counts().idxmax()"
   ]
  },
  {
   "cell_type": "code",
   "execution_count": 34,
   "metadata": {},
   "outputs": [
    {
     "data": {
      "text/plain": [
       "'Drama'"
      ]
     },
     "execution_count": 34,
     "metadata": {},
     "output_type": "execute_result"
    }
   ],
   "source": [
    "data_11_1.genres.value_counts().idxmax()"
   ]
  },
  {
   "cell_type": "code",
   "execution_count": 38,
   "metadata": {},
   "outputs": [
    {
     "data": {
      "text/plain": [
       "'Drama'"
      ]
     },
     "execution_count": 38,
     "metadata": {},
     "output_type": "execute_result"
    }
   ],
   "source": [
    "data_12 = data.copy()\n",
    "data_12['genres'] = data_12.genres.str.split('|')\n",
    "data_12_1 = data_12.explode('genres')\n",
    "data_12_1[data_12_1.profit > 0].genres.value_counts().idxmax()"
   ]
  },
  {
   "cell_type": "code",
   "execution_count": 48,
   "metadata": {},
   "outputs": [],
   "source": [
    "data_13 = data.groupby('director').revenue.sum().idxmax()"
   ]
  },
  {
   "cell_type": "code",
   "execution_count": 49,
   "metadata": {},
   "outputs": [
    {
     "data": {
      "text/plain": [
       "'Peter Jackson'"
      ]
     },
     "metadata": {},
     "output_type": "display_data"
    }
   ],
   "source": [
    "display(data_13)"
   ]
  },
  {
   "cell_type": "code",
   "execution_count": 55,
   "metadata": {},
   "outputs": [
    {
     "data": {
      "text/plain": [
       "'Michael Bay'"
      ]
     },
     "execution_count": 55,
     "metadata": {},
     "output_type": "execute_result"
    }
   ],
   "source": [
    "data_14 = data.copy()\n",
    "data_14['genres'] = data_14.genres.str.split('|')\n",
    "data_14_1 = data_14.explode('genres')\n",
    "data_14_2 = data_14_1[data_14_1.genres == 'Action']\n",
    "data_14_2.director.value_counts().idxmax()"
   ]
  },
  {
   "cell_type": "code",
   "execution_count": 63,
   "metadata": {},
   "outputs": [
    {
     "data": {
      "text/plain": [
       "'Chris Hemsworth'"
      ]
     },
     "metadata": {},
     "output_type": "display_data"
    }
   ],
   "source": [
    "data_15 = data.copy()\n",
    "data_15['cast'] = data_15.cast.str.split('|')\n",
    "data_15_1 = data_15.explode('cast')\n",
    "data_15_2 = data_15_1[data_15_1.release_year == 2012]\n",
    "data_15_3 = data_15_2.groupby('cast').revenue.sum().idxmax()\n",
    "display(data_15_3)"
   ]
  },
  {
   "cell_type": "code",
   "execution_count": 65,
   "metadata": {},
   "outputs": [
    {
     "data": {
      "text/plain": [
       "'Matt Damon'"
      ]
     },
     "execution_count": 65,
     "metadata": {},
     "output_type": "execute_result"
    }
   ],
   "source": [
    "data_16 = data.copy()\n",
    "data_16['cast'] = data_16.cast.str.split('|')\n",
    "data_16_1 = data_16.explode('cast')\n",
    "data_16_2 = data_16_1[data_16_1.budget > data_16_1.budget.mean()]\n",
    "data_16_2.cast.value_counts().idxmax()"
   ]
  },
  {
   "cell_type": "code",
   "execution_count": 67,
   "metadata": {},
   "outputs": [
    {
     "data": {
      "text/plain": [
       "'Action'"
      ]
     },
     "execution_count": 67,
     "metadata": {},
     "output_type": "execute_result"
    }
   ],
   "source": [
    "data_17 = data.copy()\n",
    "data_17['cast'] = data_17.cast.str.split('|')\n",
    "data_17['genres'] = data_17.genres.str.split('|')\n",
    "data_17_1 = data_17.explode('cast')\n",
    "data_17_2 = data_17_1.explode('genres')\n",
    "data_17_3 = data_17_2[data_17_2.cast  == 'Nicolas Cage']\n",
    "data_17_3.genres.value_counts().idxmax()"
   ]
  },
  {
   "cell_type": "code",
   "execution_count": 23,
   "metadata": {},
   "outputs": [],
   "source": [
    "data_18 = data.copy()"
   ]
  },
  {
   "cell_type": "code",
   "execution_count": 24,
   "metadata": {},
   "outputs": [
    {
     "data": {
      "text/html": [
       "<div>\n",
       "<style scoped>\n",
       "    .dataframe tbody tr th:only-of-type {\n",
       "        vertical-align: middle;\n",
       "    }\n",
       "\n",
       "    .dataframe tbody tr th {\n",
       "        vertical-align: top;\n",
       "    }\n",
       "\n",
       "    .dataframe thead th {\n",
       "        text-align: right;\n",
       "    }\n",
       "</style>\n",
       "<table border=\"1\" class=\"dataframe\">\n",
       "  <thead>\n",
       "    <tr style=\"text-align: right;\">\n",
       "      <th></th>\n",
       "      <th>imdb_id</th>\n",
       "      <th>budget</th>\n",
       "      <th>revenue</th>\n",
       "      <th>original_title</th>\n",
       "      <th>cast</th>\n",
       "      <th>director</th>\n",
       "      <th>tagline</th>\n",
       "      <th>overview</th>\n",
       "      <th>runtime</th>\n",
       "      <th>genres</th>\n",
       "      <th>production_companies</th>\n",
       "      <th>release_date</th>\n",
       "      <th>vote_average</th>\n",
       "      <th>release_year</th>\n",
       "      <th>profit</th>\n",
       "    </tr>\n",
       "  </thead>\n",
       "  <tbody>\n",
       "    <tr>\n",
       "      <th>0</th>\n",
       "      <td>tt0369610</td>\n",
       "      <td>150000000</td>\n",
       "      <td>1513528810</td>\n",
       "      <td>Jurassic World</td>\n",
       "      <td>Chris Pratt|Bryce Dallas Howard|Irrfan Khan|Vi...</td>\n",
       "      <td>Colin Trevorrow</td>\n",
       "      <td>The park is open.</td>\n",
       "      <td>Twenty-two years after the events of Jurassic ...</td>\n",
       "      <td>124</td>\n",
       "      <td>Action|Adventure|Science Fiction|Thriller</td>\n",
       "      <td>Universal Studios|Amblin Entertainment|Legenda...</td>\n",
       "      <td>6/9/2015</td>\n",
       "      <td>6.5</td>\n",
       "      <td>2015</td>\n",
       "      <td>1363528810</td>\n",
       "    </tr>\n",
       "  </tbody>\n",
       "</table>\n",
       "</div>"
      ],
      "text/plain": [
       "     imdb_id     budget     revenue  original_title  \\\n",
       "0  tt0369610  150000000  1513528810  Jurassic World   \n",
       "\n",
       "                                                cast         director  \\\n",
       "0  Chris Pratt|Bryce Dallas Howard|Irrfan Khan|Vi...  Colin Trevorrow   \n",
       "\n",
       "             tagline                                           overview  \\\n",
       "0  The park is open.  Twenty-two years after the events of Jurassic ...   \n",
       "\n",
       "   runtime                                     genres  \\\n",
       "0      124  Action|Adventure|Science Fiction|Thriller   \n",
       "\n",
       "                                production_companies release_date  \\\n",
       "0  Universal Studios|Amblin Entertainment|Legenda...     6/9/2015   \n",
       "\n",
       "   vote_average  release_year      profit  \n",
       "0           6.5          2015  1363528810  "
      ]
     },
     "metadata": {},
     "output_type": "display_data"
    }
   ],
   "source": [
    "display(data_18.head(1))"
   ]
  },
  {
   "cell_type": "code",
   "execution_count": 25,
   "metadata": {},
   "outputs": [],
   "source": [
    "data_18['production_companies'] = data_18['production_companies'].str.split('|')\n",
    "data_18_1 = data_18.explode('production_companies')\n",
    "data_18_2 = data_18_1[data_18_1.production_companies == 'Paramount Pictures']"
   ]
  },
  {
   "cell_type": "code",
   "execution_count": 27,
   "metadata": {},
   "outputs": [
    {
     "data": {
      "text/plain": [
       "925    K-19: The Widowmaker\n",
       "Name: original_title, dtype: object"
      ]
     },
     "execution_count": 27,
     "metadata": {},
     "output_type": "execute_result"
    }
   ],
   "source": [
    "data_18_2[data_18_2.profit == data_18_2.profit.min()].original_title"
   ]
  },
  {
   "cell_type": "code",
   "execution_count": 28,
   "metadata": {},
   "outputs": [
    {
     "data": {
      "text/plain": [
       "2015"
      ]
     },
     "metadata": {},
     "output_type": "display_data"
    }
   ],
   "source": [
    "data_19 = data.copy()\n",
    "data_19_1 = data.groupby('release_year').revenue.sum().idxmax()\n",
    "display(data_19_1)"
   ]
  },
  {
   "cell_type": "code",
   "execution_count": 56,
   "metadata": {},
   "outputs": [],
   "source": [
    "data_20 = data.copy()\n"
   ]
  },
  {
   "cell_type": "code",
   "execution_count": 78,
   "metadata": {},
   "outputs": [
    {
     "data": {
      "text/plain": [
       "release_year\n",
       "2007    2167367993\n",
       "2008    2134595031\n",
       "2014    1886303827\n",
       "2011    1871393682\n",
       "2003    1855493377\n",
       "2010    1853128844\n",
       "2009    1833481628\n",
       "2004    1675125175\n",
       "2013    1636453400\n",
       "2005    1551980298\n",
       "2001    1428174853\n",
       "2012    1258020056\n",
       "2002    1072248589\n",
       "2015     870368348\n",
       "2006     614989614\n",
       "2000     471305068\n",
       "Name: profit, dtype: int64"
      ]
     },
     "metadata": {},
     "output_type": "display_data"
    }
   ],
   "source": [
    "data_20_1['production_companies'] = data_20['production_companies'].str.split('|')\n",
    "data_20_2 = data_20_1.explode('production_companies')\n",
    "data_20_3 = data_20_2[data_20_2.production_companies == 'Warner Bros.']\n",
    "data_20_4 = data_20_3.groupby('release_year').profit.sum().sort_values(ascending=False)\n",
    "display(data_20_4)"
   ]
  },
  {
   "cell_type": "code",
   "execution_count": 14,
   "metadata": {},
   "outputs": [],
   "source": [
    "from datetime import datetime\n",
    "data_21 = data.copy()\n"
   ]
  },
  {
   "cell_type": "code",
   "execution_count": 15,
   "metadata": {},
   "outputs": [
    {
     "data": {
      "text/html": [
       "<div>\n",
       "<style scoped>\n",
       "    .dataframe tbody tr th:only-of-type {\n",
       "        vertical-align: middle;\n",
       "    }\n",
       "\n",
       "    .dataframe tbody tr th {\n",
       "        vertical-align: top;\n",
       "    }\n",
       "\n",
       "    .dataframe thead th {\n",
       "        text-align: right;\n",
       "    }\n",
       "</style>\n",
       "<table border=\"1\" class=\"dataframe\">\n",
       "  <thead>\n",
       "    <tr style=\"text-align: right;\">\n",
       "      <th></th>\n",
       "      <th>imdb_id</th>\n",
       "      <th>budget</th>\n",
       "      <th>revenue</th>\n",
       "      <th>original_title</th>\n",
       "      <th>cast</th>\n",
       "      <th>director</th>\n",
       "      <th>tagline</th>\n",
       "      <th>overview</th>\n",
       "      <th>runtime</th>\n",
       "      <th>genres</th>\n",
       "      <th>production_companies</th>\n",
       "      <th>release_date</th>\n",
       "      <th>vote_average</th>\n",
       "      <th>release_year</th>\n",
       "    </tr>\n",
       "  </thead>\n",
       "  <tbody>\n",
       "    <tr>\n",
       "      <th>0</th>\n",
       "      <td>tt0369610</td>\n",
       "      <td>150000000</td>\n",
       "      <td>1513528810</td>\n",
       "      <td>Jurassic World</td>\n",
       "      <td>Chris Pratt|Bryce Dallas Howard|Irrfan Khan|Vi...</td>\n",
       "      <td>Colin Trevorrow</td>\n",
       "      <td>The park is open.</td>\n",
       "      <td>Twenty-two years after the events of Jurassic ...</td>\n",
       "      <td>124</td>\n",
       "      <td>Action|Adventure|Science Fiction|Thriller</td>\n",
       "      <td>Universal Studios|Amblin Entertainment|Legenda...</td>\n",
       "      <td>6/9/2015</td>\n",
       "      <td>6.5</td>\n",
       "      <td>2015</td>\n",
       "    </tr>\n",
       "    <tr>\n",
       "      <th>1</th>\n",
       "      <td>tt1392190</td>\n",
       "      <td>150000000</td>\n",
       "      <td>378436354</td>\n",
       "      <td>Mad Max: Fury Road</td>\n",
       "      <td>Tom Hardy|Charlize Theron|Hugh Keays-Byrne|Nic...</td>\n",
       "      <td>George Miller</td>\n",
       "      <td>What a Lovely Day.</td>\n",
       "      <td>An apocalyptic story set in the furthest reach...</td>\n",
       "      <td>120</td>\n",
       "      <td>Action|Adventure|Science Fiction|Thriller</td>\n",
       "      <td>Village Roadshow Pictures|Kennedy Miller Produ...</td>\n",
       "      <td>5/13/2015</td>\n",
       "      <td>7.1</td>\n",
       "      <td>2015</td>\n",
       "    </tr>\n",
       "    <tr>\n",
       "      <th>2</th>\n",
       "      <td>tt2908446</td>\n",
       "      <td>110000000</td>\n",
       "      <td>295238201</td>\n",
       "      <td>Insurgent</td>\n",
       "      <td>Shailene Woodley|Theo James|Kate Winslet|Ansel...</td>\n",
       "      <td>Robert Schwentke</td>\n",
       "      <td>One Choice Can Destroy You</td>\n",
       "      <td>Beatrice Prior must confront her inner demons ...</td>\n",
       "      <td>119</td>\n",
       "      <td>Adventure|Science Fiction|Thriller</td>\n",
       "      <td>Summit Entertainment|Mandeville Films|Red Wago...</td>\n",
       "      <td>3/18/2015</td>\n",
       "      <td>6.3</td>\n",
       "      <td>2015</td>\n",
       "    </tr>\n",
       "    <tr>\n",
       "      <th>3</th>\n",
       "      <td>tt2488496</td>\n",
       "      <td>200000000</td>\n",
       "      <td>2068178225</td>\n",
       "      <td>Star Wars: The Force Awakens</td>\n",
       "      <td>Harrison Ford|Mark Hamill|Carrie Fisher|Adam D...</td>\n",
       "      <td>J.J. Abrams</td>\n",
       "      <td>Every generation has a story.</td>\n",
       "      <td>Thirty years after defeating the Galactic Empi...</td>\n",
       "      <td>136</td>\n",
       "      <td>Action|Adventure|Science Fiction|Fantasy</td>\n",
       "      <td>Lucasfilm|Truenorth Productions|Bad Robot</td>\n",
       "      <td>12/15/2015</td>\n",
       "      <td>7.5</td>\n",
       "      <td>2015</td>\n",
       "    </tr>\n",
       "    <tr>\n",
       "      <th>4</th>\n",
       "      <td>tt2820852</td>\n",
       "      <td>190000000</td>\n",
       "      <td>1506249360</td>\n",
       "      <td>Furious 7</td>\n",
       "      <td>Vin Diesel|Paul Walker|Jason Statham|Michelle ...</td>\n",
       "      <td>James Wan</td>\n",
       "      <td>Vengeance Hits Home</td>\n",
       "      <td>Deckard Shaw seeks revenge against Dominic Tor...</td>\n",
       "      <td>137</td>\n",
       "      <td>Action|Crime|Thriller</td>\n",
       "      <td>Universal Pictures|Original Film|Media Rights ...</td>\n",
       "      <td>4/1/2015</td>\n",
       "      <td>7.3</td>\n",
       "      <td>2015</td>\n",
       "    </tr>\n",
       "  </tbody>\n",
       "</table>\n",
       "</div>"
      ],
      "text/plain": [
       "     imdb_id     budget     revenue                original_title  \\\n",
       "0  tt0369610  150000000  1513528810                Jurassic World   \n",
       "1  tt1392190  150000000   378436354            Mad Max: Fury Road   \n",
       "2  tt2908446  110000000   295238201                     Insurgent   \n",
       "3  tt2488496  200000000  2068178225  Star Wars: The Force Awakens   \n",
       "4  tt2820852  190000000  1506249360                     Furious 7   \n",
       "\n",
       "                                                cast          director  \\\n",
       "0  Chris Pratt|Bryce Dallas Howard|Irrfan Khan|Vi...   Colin Trevorrow   \n",
       "1  Tom Hardy|Charlize Theron|Hugh Keays-Byrne|Nic...     George Miller   \n",
       "2  Shailene Woodley|Theo James|Kate Winslet|Ansel...  Robert Schwentke   \n",
       "3  Harrison Ford|Mark Hamill|Carrie Fisher|Adam D...       J.J. Abrams   \n",
       "4  Vin Diesel|Paul Walker|Jason Statham|Michelle ...         James Wan   \n",
       "\n",
       "                         tagline  \\\n",
       "0              The park is open.   \n",
       "1             What a Lovely Day.   \n",
       "2     One Choice Can Destroy You   \n",
       "3  Every generation has a story.   \n",
       "4            Vengeance Hits Home   \n",
       "\n",
       "                                            overview  runtime  \\\n",
       "0  Twenty-two years after the events of Jurassic ...      124   \n",
       "1  An apocalyptic story set in the furthest reach...      120   \n",
       "2  Beatrice Prior must confront her inner demons ...      119   \n",
       "3  Thirty years after defeating the Galactic Empi...      136   \n",
       "4  Deckard Shaw seeks revenge against Dominic Tor...      137   \n",
       "\n",
       "                                      genres  \\\n",
       "0  Action|Adventure|Science Fiction|Thriller   \n",
       "1  Action|Adventure|Science Fiction|Thriller   \n",
       "2         Adventure|Science Fiction|Thriller   \n",
       "3   Action|Adventure|Science Fiction|Fantasy   \n",
       "4                      Action|Crime|Thriller   \n",
       "\n",
       "                                production_companies release_date  \\\n",
       "0  Universal Studios|Amblin Entertainment|Legenda...     6/9/2015   \n",
       "1  Village Roadshow Pictures|Kennedy Miller Produ...    5/13/2015   \n",
       "2  Summit Entertainment|Mandeville Films|Red Wago...    3/18/2015   \n",
       "3          Lucasfilm|Truenorth Productions|Bad Robot   12/15/2015   \n",
       "4  Universal Pictures|Original Film|Media Rights ...     4/1/2015   \n",
       "\n",
       "   vote_average  release_year  \n",
       "0           6.5          2015  \n",
       "1           7.1          2015  \n",
       "2           6.3          2015  \n",
       "3           7.5          2015  \n",
       "4           7.3          2015  "
      ]
     },
     "metadata": {},
     "output_type": "display_data"
    }
   ],
   "source": [
    "display(data_21.head(5))"
   ]
  },
  {
   "cell_type": "code",
   "execution_count": 21,
   "metadata": {},
   "outputs": [],
   "source": [
    "data_21['month'] = pd.DatetimeIndex(data_21['release_date']).month"
   ]
  },
  {
   "cell_type": "code",
   "execution_count": 23,
   "metadata": {},
   "outputs": [
    {
     "data": {
      "text/html": [
       "<div>\n",
       "<style scoped>\n",
       "    .dataframe tbody tr th:only-of-type {\n",
       "        vertical-align: middle;\n",
       "    }\n",
       "\n",
       "    .dataframe tbody tr th {\n",
       "        vertical-align: top;\n",
       "    }\n",
       "\n",
       "    .dataframe thead th {\n",
       "        text-align: right;\n",
       "    }\n",
       "</style>\n",
       "<table border=\"1\" class=\"dataframe\">\n",
       "  <thead>\n",
       "    <tr style=\"text-align: right;\">\n",
       "      <th></th>\n",
       "      <th>imdb_id</th>\n",
       "      <th>budget</th>\n",
       "      <th>revenue</th>\n",
       "      <th>original_title</th>\n",
       "      <th>cast</th>\n",
       "      <th>director</th>\n",
       "      <th>tagline</th>\n",
       "      <th>overview</th>\n",
       "      <th>runtime</th>\n",
       "      <th>genres</th>\n",
       "      <th>production_companies</th>\n",
       "      <th>release_date</th>\n",
       "      <th>vote_average</th>\n",
       "      <th>release_year</th>\n",
       "      <th>month</th>\n",
       "    </tr>\n",
       "  </thead>\n",
       "  <tbody>\n",
       "    <tr>\n",
       "      <th>0</th>\n",
       "      <td>tt0369610</td>\n",
       "      <td>150000000</td>\n",
       "      <td>1513528810</td>\n",
       "      <td>Jurassic World</td>\n",
       "      <td>Chris Pratt|Bryce Dallas Howard|Irrfan Khan|Vi...</td>\n",
       "      <td>Colin Trevorrow</td>\n",
       "      <td>The park is open.</td>\n",
       "      <td>Twenty-two years after the events of Jurassic ...</td>\n",
       "      <td>124</td>\n",
       "      <td>Action|Adventure|Science Fiction|Thriller</td>\n",
       "      <td>Universal Studios|Amblin Entertainment|Legenda...</td>\n",
       "      <td>6/9/2015</td>\n",
       "      <td>6.5</td>\n",
       "      <td>2015</td>\n",
       "      <td>6</td>\n",
       "    </tr>\n",
       "    <tr>\n",
       "      <th>1</th>\n",
       "      <td>tt1392190</td>\n",
       "      <td>150000000</td>\n",
       "      <td>378436354</td>\n",
       "      <td>Mad Max: Fury Road</td>\n",
       "      <td>Tom Hardy|Charlize Theron|Hugh Keays-Byrne|Nic...</td>\n",
       "      <td>George Miller</td>\n",
       "      <td>What a Lovely Day.</td>\n",
       "      <td>An apocalyptic story set in the furthest reach...</td>\n",
       "      <td>120</td>\n",
       "      <td>Action|Adventure|Science Fiction|Thriller</td>\n",
       "      <td>Village Roadshow Pictures|Kennedy Miller Produ...</td>\n",
       "      <td>5/13/2015</td>\n",
       "      <td>7.1</td>\n",
       "      <td>2015</td>\n",
       "      <td>5</td>\n",
       "    </tr>\n",
       "  </tbody>\n",
       "</table>\n",
       "</div>"
      ],
      "text/plain": [
       "     imdb_id     budget     revenue      original_title  \\\n",
       "0  tt0369610  150000000  1513528810      Jurassic World   \n",
       "1  tt1392190  150000000   378436354  Mad Max: Fury Road   \n",
       "\n",
       "                                                cast         director  \\\n",
       "0  Chris Pratt|Bryce Dallas Howard|Irrfan Khan|Vi...  Colin Trevorrow   \n",
       "1  Tom Hardy|Charlize Theron|Hugh Keays-Byrne|Nic...    George Miller   \n",
       "\n",
       "              tagline                                           overview  \\\n",
       "0   The park is open.  Twenty-two years after the events of Jurassic ...   \n",
       "1  What a Lovely Day.  An apocalyptic story set in the furthest reach...   \n",
       "\n",
       "   runtime                                     genres  \\\n",
       "0      124  Action|Adventure|Science Fiction|Thriller   \n",
       "1      120  Action|Adventure|Science Fiction|Thriller   \n",
       "\n",
       "                                production_companies release_date  \\\n",
       "0  Universal Studios|Amblin Entertainment|Legenda...     6/9/2015   \n",
       "1  Village Roadshow Pictures|Kennedy Miller Produ...    5/13/2015   \n",
       "\n",
       "   vote_average  release_year  month  \n",
       "0           6.5          2015      6  \n",
       "1           7.1          2015      5  "
      ]
     },
     "execution_count": 23,
     "metadata": {},
     "output_type": "execute_result"
    }
   ],
   "source": [
    "data_21.head(2)"
   ]
  },
  {
   "cell_type": "code",
   "execution_count": 34,
   "metadata": {},
   "outputs": [
    {
     "data": {
      "text/plain": [
       "month\n",
       "9     227\n",
       "12    190\n",
       "10    186\n",
       "8     161\n",
       "3     156\n",
       "4     149\n",
       "6     147\n",
       "11    146\n",
       "7     142\n",
       "5     140\n",
       "2     135\n",
       "1     110\n",
       "Name: imdb_id, dtype: int64"
      ]
     },
     "metadata": {},
     "output_type": "display_data"
    }
   ],
   "source": [
    "from datetime import datetime\n",
    "data_21 = data.copy()\n",
    "data_21['month'] = pd.DatetimeIndex(data_21['release_date']).month\n",
    "data_21_1 = data_21.groupby('month').imdb_id.count().sort_values(ascending=False)\n",
    "display(data_21_1)"
   ]
  },
  {
   "cell_type": "code",
   "execution_count": 42,
   "metadata": {},
   "outputs": [
    {
     "data": {
      "text/plain": [
       "450"
      ]
     },
     "execution_count": 42,
     "metadata": {},
     "output_type": "execute_result"
    }
   ],
   "source": [
    "data_21_1[6]+data_21_1[7]+data_21_1[8]"
   ]
  },
  {
   "cell_type": "code",
   "execution_count": 43,
   "metadata": {},
   "outputs": [
    {
     "data": {
      "text/plain": [
       "Peter Jackson           7\n",
       "Clint Eastwood          6\n",
       "Steven Soderbergh       6\n",
       "Nancy Meyers            4\n",
       "Adam Shankman           4\n",
       "                       ..\n",
       "Jonathan Levine         1\n",
       "Roger Michell           1\n",
       "Nicolas Winding Refn    1\n",
       "David Koepp             1\n",
       "Kelly Asbury            1\n",
       "Name: director, Length: 332, dtype: int64"
      ]
     },
     "execution_count": 43,
     "metadata": {},
     "output_type": "execute_result"
    }
   ],
   "source": [
    "data_23 = data.copy()\n",
    "data_23['release_date'] = pd.to_datetime(data_23['release_date'])\n",
    "data_23.release_date = data_23.release_date.apply(lambda x: x.strftime('%B'))\n",
    "data23_1 = data_23.query('release_date in [\"January\", \"February\", \"December\"]')\n",
    "data23_2 = data23_1.director.str.split('|')\n",
    "data23_2 = data23_1.explode('director')\n",
    "data23_2.director.value_counts()"
   ]
  },
  {
   "cell_type": "code",
   "execution_count": 54,
   "metadata": {},
   "outputs": [
    {
     "data": {
      "text/plain": [
       "production_companies\n",
       "Four By Two Productions       83.0\n",
       "Jim Henson Company, The       59.0\n",
       "Dos Corazones                 47.0\n",
       "Museum Canada Productions     46.0\n",
       "Polsky Films                  46.0\n",
       "                              ... \n",
       "Everest Entertainment          3.0\n",
       "Berlanti Productions           3.0\n",
       "XM2 Productions                2.0\n",
       "Ixtlan Productions             2.0\n",
       "Global Entertainment Group     2.0\n",
       "Name: title_length, Length: 1771, dtype: float64"
      ]
     },
     "execution_count": 54,
     "metadata": {},
     "output_type": "execute_result"
    }
   ],
   "source": [
    "data_24 = data.copy()\n",
    "data_24['production_companies'] = data_24['production_companies'].str.split('|')\n",
    "data_24_1 = data_24.explode('production_companies')\n",
    "data_24_1['title_length'] = data_24_1.original_title.apply(lambda x: len(x))\n",
    "data_24_2 = data_24_1.groupby('production_companies').title_length.mean().sort_values(ascending = False)\n",
    "data_24_2"
   ]
  },
  {
   "cell_type": "code",
   "execution_count": 56,
   "metadata": {},
   "outputs": [
    {
     "data": {
      "text/plain": [
       "production_companies\n",
       "Midnight Picture Show                    175.0\n",
       "Room 9 Entertainment                     161.0\n",
       "Heineken Branded Entertainment           161.0\n",
       "98 MPH Productions                       159.0\n",
       "Brookwell-McNamara Entertainment         156.0\n",
       "                                         ...  \n",
       "London Boulevard                          13.0\n",
       "Phantom Four                              13.0\n",
       "Henceforth                                13.0\n",
       "Empire Pictures                           11.0\n",
       "Motion Picture Corporation of America     11.0\n",
       "Name: overview, Length: 1771, dtype: float64"
      ]
     },
     "execution_count": 56,
     "metadata": {},
     "output_type": "execute_result"
    }
   ],
   "source": [
    "data_25 = data.copy()\n",
    "data_25['production_companies'] = data_25['production_companies'].str.split('|')\n",
    "data_25['overview'] = data_25['overview'].str.split(' ')\n",
    "data_25_1 = data_25.explode('production_companies')\n",
    "data_25_1['overview'] = data_25_1.overview.apply(lambda x: len(x))\n",
    "data_25_2 = data_25_1.groupby('production_companies').overview.mean().sort_values(ascending = False)\n",
    "data_25_2"
   ]
  },
  {
   "cell_type": "code",
   "execution_count": 89,
   "metadata": {},
   "outputs": [],
   "source": [
    "data_26 = data.copy()"
   ]
  },
  {
   "cell_type": "code",
   "execution_count": 97,
   "metadata": {},
   "outputs": [
    {
     "data": {
      "text/plain": [
       "9                                          Inside Out\n",
       "34                                               Room\n",
       "118                                      Interstellar\n",
       "119                           Guardians of the Galaxy\n",
       "125                                The Imitation Game\n",
       "128                                         Gone Girl\n",
       "138                          The Grand Budapest Hotel\n",
       "370                                         Inception\n",
       "599                                   The Dark Knight\n",
       "872                                       The Pianist\n",
       "1081    The Lord of the Rings: The Return of the King\n",
       "1183                          The Wolf of Wall Street\n",
       "1191                                 12 Years a Slave\n",
       "1800                                          Memento\n",
       "Name: original_title, dtype: object"
      ]
     },
     "execution_count": 97,
     "metadata": {},
     "output_type": "execute_result"
    }
   ],
   "source": [
    "data_26[data_26.vote_average > data_26.vote_average.quantile(q=0.99)].original_title"
   ]
  },
  {
   "cell_type": "code",
   "execution_count": 118,
   "metadata": {},
   "outputs": [],
   "source": [
    "data_27 = data.copy()"
   ]
  },
  {
   "cell_type": "code",
   "execution_count": 119,
   "metadata": {},
   "outputs": [],
   "source": [
    "import itertools\n",
    "data_27['cast'] = data_27.cast.str.split('|').apply(lambda x: list(itertools.combinations(x, 2)))"
   ]
  },
  {
   "cell_type": "code",
   "execution_count": null,
   "metadata": {},
   "outputs": [],
   "source": []
  },
  {
   "cell_type": "code",
   "execution_count": 120,
   "metadata": {},
   "outputs": [
    {
     "data": {
      "text/plain": [
       "(Daniel Radcliffe, Emma Watson)     8\n",
       "(Daniel Radcliffe, Rupert Grint)    8\n",
       "(Rupert Grint, Emma Watson)         7\n",
       "Name: cast, dtype: int64"
      ]
     },
     "execution_count": 120,
     "metadata": {},
     "output_type": "execute_result"
    }
   ],
   "source": [
    "data_27_1 = data_27.explode('cast')\n",
    "data_27_1.cast.value_counts().sort_values(ascending = False).head(3)"
   ]
  },
  {
   "cell_type": "code",
   "execution_count": null,
   "metadata": {},
   "outputs": [],
   "source": []
  }
 ],
 "metadata": {
  "kernelspec": {
   "display_name": "Python 3",
   "language": "python",
   "name": "python3"
  },
  "language_info": {
   "codemirror_mode": {
    "name": "ipython",
    "version": 3
   },
   "file_extension": ".py",
   "mimetype": "text/x-python",
   "name": "python",
   "nbconvert_exporter": "python",
   "pygments_lexer": "ipython3",
   "version": "3.8.5"
  }
 },
 "nbformat": 4,
 "nbformat_minor": 4
}
